{
 "cells": [
  {
   "cell_type": "markdown",
   "id": "5b4c996f-b47a-494b-92eb-c66c9731ac64",
   "metadata": {},
   "source": [
    "# 14 MARCH ADV STATISTICS ASS"
   ]
  },
  {
   "cell_type": "markdown",
   "id": "ea8b9e4a-628b-45e1-b025-f2982e3b7e4e",
   "metadata": {},
   "source": [
    "## Q1. Write a Python function that takes in two arrays of data and calculates the F-value for a variance ratio test. The function should return the F-value and the corresponding p-value for the test.\n",
    "## ANSWER:-"
   ]
  },
  {
   "cell_type": "code",
   "execution_count": 3,
   "id": "10befa6e-c342-4487-bd47-26ad71c145b0",
   "metadata": {},
   "outputs": [],
   "source": [
    "import numpy as np\n",
    "import scipy.stats as stats\n",
    "\n",
    "def variance_ratio_test(data1, data2):\n",
    "    # Calculate the sample variances\n",
    "    var1 = np.var(data1, ddof=1)\n",
    "    var2 = np.var(data2, ddof=1)\n",
    "    \n",
    "    # Calculate the F-value\n",
    "    F_value = var1 / var2\n",
    "    \n",
    "    # Calculate the degrees of freedom\n",
    "    df1 = len(data1) - 1\n",
    "    df2 = len(data2) - 1\n",
    "    \n",
    "    # Calculate the p-value\n",
    "    p_value = 1 - stats.f.cdf(F_value, df1, df2)\n",
    "    \n",
    "    return F_value, p_value\n"
   ]
  },
  {
   "cell_type": "code",
   "execution_count": 4,
   "id": "1a08f83c-ece2-4b52-aa09-e28d102ec9b7",
   "metadata": {},
   "outputs": [
    {
     "name": "stdout",
     "output_type": "stream",
     "text": [
      "F-value: 1.0\n",
      "p-value: 0.5\n"
     ]
    }
   ],
   "source": [
    "data1 = [1, 2, 3, 4, 5]\n",
    "data2 = [6, 7, 8, 9, 10]\n",
    "\n",
    "F, p = variance_ratio_test(data1, data2)\n",
    "print(\"F-value:\", F)\n",
    "print(\"p-value:\", p)\n"
   ]
  },
  {
   "cell_type": "markdown",
   "id": "bd883a89-c893-40a4-b6c9-cf24517e5b82",
   "metadata": {},
   "source": [
    "## Q2. Given a significance level of 0.05 and the degrees of freedom for the numerator and denominator of an F-distribution, write a Python function that returns the critical F-value for a two-tailed test.\n",
    "## ANSWER:-"
   ]
  },
  {
   "cell_type": "code",
   "execution_count": 5,
   "id": "def3d019-ab0d-4d8d-8288-0f5a2a5404e2",
   "metadata": {},
   "outputs": [],
   "source": [
    "import scipy.stats as stats\n",
    "\n",
    "def critical_f_value(significance_level, df1, df2):\n",
    "    alpha = significance_level / 2  # Divide alpha by 2 for two-tailed test\n",
    "    \n",
    "    # Calculate the critical F-value\n",
    "    f_critical = stats.f.ppf(1 - alpha, df1, df2)\n",
    "    \n",
    "    return f_critical\n"
   ]
  },
  {
   "cell_type": "code",
   "execution_count": 6,
   "id": "d3e6c67f-5620-41c7-a7bc-b79c30a5cc7d",
   "metadata": {},
   "outputs": [
    {
     "name": "stdout",
     "output_type": "stream",
     "text": [
      "Critical F-value: 4.319721833292892\n"
     ]
    }
   ],
   "source": [
    "significance_level = 0.05\n",
    "df1 = 6\n",
    "df2 = 9\n",
    "\n",
    "f_critical = critical_f_value(significance_level, df1, df2)\n",
    "print(\"Critical F-value:\", f_critical)\n"
   ]
  },
  {
   "cell_type": "markdown",
   "id": "624d8a26-8694-4e2e-a4bd-a9281f8423b8",
   "metadata": {},
   "source": [
    "## Q3. Write a Python program that generates random samples from two normal distributions with known variances and uses an F-test to determine if the variances are equal. The program should output the F- value, degrees of freedom, and p-value for the test.\n",
    "## ANSWER:-"
   ]
  },
  {
   "cell_type": "code",
   "execution_count": 7,
   "id": "4885a715-414b-4888-ba86-9dc936da2ba5",
   "metadata": {},
   "outputs": [
    {
     "name": "stdout",
     "output_type": "stream",
     "text": [
      "F-value: 0.4008947160081145\n",
      "Degrees of freedom (numerator, denominator): 99 , 99\n",
      "p-value: 1.9999918289043712\n"
     ]
    }
   ],
   "source": [
    "import numpy as np\n",
    "import scipy.stats as stats\n",
    "\n",
    "def perform_f_test(data1, data2):\n",
    "    # Calculate the sample variances\n",
    "    var1 = np.var(data1, ddof=1)\n",
    "    var2 = np.var(data2, ddof=1)\n",
    "    \n",
    "    # Calculate the F-value\n",
    "    F_value = var1 / var2\n",
    "    \n",
    "    # Calculate the degrees of freedom\n",
    "    df1 = len(data1) - 1\n",
    "    df2 = len(data2) - 1\n",
    "    \n",
    "    # Calculate the p-value\n",
    "    p_value = 2 * (1 - stats.f.cdf(F_value, df1, df2))\n",
    "    \n",
    "    return F_value, df1, df2, p_value\n",
    "\n",
    "# Generate random samples from two normal distributions\n",
    "np.random.seed(1)\n",
    "data1 = np.random.normal(loc=0, scale=1, size=100)\n",
    "data2 = np.random.normal(loc=0, scale=1.5, size=100)\n",
    "\n",
    "# Perform the F-test\n",
    "F, df1, df2, p = perform_f_test(data1, data2)\n",
    "\n",
    "# Print the results\n",
    "print(\"F-value:\", F)\n",
    "print(\"Degrees of freedom (numerator, denominator):\", df1, \",\", df2)\n",
    "print(\"p-value:\", p)\n"
   ]
  },
  {
   "cell_type": "markdown",
   "id": "b9799c57-4840-4043-bffe-97e936890e71",
   "metadata": {},
   "source": [
    "## Q4.The variances of two populations are known to be 10 and 15. A sample of 12 observations is taken from each population. Conduct an F-test at the 5% significance level to determine if the variances are significantly different.\n",
    "## ANSWER:-"
   ]
  },
  {
   "cell_type": "code",
   "execution_count": 8,
   "id": "7400c0ba-fe28-42f8-abe7-87f4a21221dc",
   "metadata": {},
   "outputs": [
    {
     "name": "stdout",
     "output_type": "stream",
     "text": [
      "F-value: 0.6666666666666666\n",
      "Degrees of freedom (numerator, denominator): 11 , 11\n",
      "p-value: 1.4876102012642005\n",
      "Critical F-value: 3.473699051085809\n",
      "Fail to reject the null hypothesis. No significant evidence to suggest different variances.\n"
     ]
    }
   ],
   "source": [
    "import scipy.stats as stats\n",
    "\n",
    "var1 = 10\n",
    "var2 = 15\n",
    "n1 = 12\n",
    "n2 = 12\n",
    "\n",
    "# Calculate the F-value\n",
    "F_value = var1 / var2\n",
    "\n",
    "# Define the degrees of freedom\n",
    "df1 = n1 - 1\n",
    "df2 = n2 - 1\n",
    "\n",
    "# Calculate the p-value\n",
    "p_value = 2 * (1 - stats.f.cdf(F_value, df1, df2))\n",
    "\n",
    "# Determine the critical F-value at the 5% significance level\n",
    "critical_f_value = stats.f.ppf(0.975, df1, df2)\n",
    "\n",
    "# Print the results\n",
    "print(\"F-value:\", F_value)\n",
    "print(\"Degrees of freedom (numerator, denominator):\", df1, \",\", df2)\n",
    "print(\"p-value:\", p_value)\n",
    "print(\"Critical F-value:\", critical_f_value)\n",
    "\n",
    "# Compare the calculated F-value with the critical F-value\n",
    "if F_value > critical_f_value:\n",
    "    print(\"Reject the null hypothesis. Variances are significantly different.\")\n",
    "else:\n",
    "    print(\"Fail to reject the null hypothesis. No significant evidence to suggest different variances.\")\n"
   ]
  },
  {
   "cell_type": "markdown",
   "id": "014ea6d5-1e48-4905-9fbc-e192005839f7",
   "metadata": {},
   "source": [
    "## Q5. A manufacturer claims that the variance of the diameter of a certain product is 0.005. A sample of 25 products is taken, and the sample variance is found to be 0.006. Conduct an F-test at the 1% significance level to determine if the claim is justified.\n",
    "## ANSWER:-"
   ]
  },
  {
   "cell_type": "code",
   "execution_count": 9,
   "id": "0c11ab8e-ee9f-4110-8f87-1f97b02e4117",
   "metadata": {},
   "outputs": [
    {
     "name": "stdout",
     "output_type": "stream",
     "text": [
      "F-value: 1.2\n",
      "Degrees of freedom (numerator, denominator): 24 , 1\n",
      "p-value: 1.2592199239918715\n",
      "Critical F-values (lower, upper): 0.08773329879425608 , 99759.30271122989\n",
      "Fail to reject the null hypothesis. No significant evidence to suggest the claim is not justified.\n"
     ]
    }
   ],
   "source": [
    "import scipy.stats as stats\n",
    "\n",
    "claimed_variance = 0.005\n",
    "sample_variance = 0.006\n",
    "n = 25\n",
    "\n",
    "# Calculate the F-value\n",
    "F_value = sample_variance / claimed_variance\n",
    "\n",
    "# Define the degrees of freedom\n",
    "df1 = n - 1\n",
    "df2 = 1  # Degrees of freedom for the claimed variance\n",
    "\n",
    "# Calculate the p-value\n",
    "p_value = 2 * (1 - stats.f.cdf(F_value, df1, df2))\n",
    "\n",
    "# Determine the critical F-values at the 1% significance level\n",
    "lower_critical_f_value = stats.f.ppf(0.005 / 2, df1, df2)\n",
    "upper_critical_f_value = stats.f.ppf(1 - (0.005 / 2), df1, df2)\n",
    "\n",
    "# Print the results\n",
    "print(\"F-value:\", F_value)\n",
    "print(\"Degrees of freedom (numerator, denominator):\", df1, \",\", df2)\n",
    "print(\"p-value:\", p_value)\n",
    "print(\"Critical F-values (lower, upper):\", lower_critical_f_value, \",\", upper_critical_f_value)\n",
    "\n",
    "# Compare the calculated F-value with the critical F-values\n",
    "if F_value < lower_critical_f_value or F_value > upper_critical_f_value:\n",
    "    print(\"Reject the null hypothesis. The claim is not justified.\")\n",
    "else:\n",
    "    print(\"Fail to reject the null hypothesis. No significant evidence to suggest the claim is not justified.\")\n"
   ]
  },
  {
   "cell_type": "markdown",
   "id": "c8cec5e4-adfc-47ea-a7b1-a3a13f2382ca",
   "metadata": {},
   "source": [
    "## Q6. Write a Python function that takes in the degrees of freedom for the numerator and denominator of an F-distribution and calculates the mean and variance of the distribution. The function should return the mean and variance as a tuple.\n",
    "## ANSWER:-"
   ]
  },
  {
   "cell_type": "code",
   "execution_count": 12,
   "id": "2681fd8b-97f6-402b-aa63-7ae64ea65297",
   "metadata": {},
   "outputs": [],
   "source": [
    "def calculate_f_distribution(df1, df2):\n",
    "    # Calculate the mean\n",
    "    mean = df2 / (df2 - 2)\n",
    "\n",
    "    # Calculate the variance\n",
    "    variance = (2 * (df2 ** 2) * (df1 + df2 - 2)) / (df1 * (df2 - 2) ** 2 * (df2 - 4))\n",
    "\n",
    "    return mean, variance"
   ]
  },
  {
   "cell_type": "code",
   "execution_count": 14,
   "id": "14a4fd63-4a20-4748-a2a8-59f0522ca50a",
   "metadata": {},
   "outputs": [
    {
     "name": "stdout",
     "output_type": "stream",
     "text": [
      "Mean: 1.2857142857142858\n",
      "Variance: 1.4326530612244899\n"
     ]
    }
   ],
   "source": [
    "df1 = 6\n",
    "df2 = 9\n",
    "\n",
    "mean, variance = calculate_f_distribution(df1, df2)\n",
    "print(\"Mean:\", mean)\n",
    "print(\"Variance:\", variance)"
   ]
  },
  {
   "cell_type": "markdown",
   "id": "e7c1f163-221d-472e-a70b-a6ab5ae94e34",
   "metadata": {},
   "source": [
    "## Q7. A random sample of 10 measurements is taken from a normal population with unknown variance. The sample variance is found to be 25. Another random sample of 15 measurements is taken from another normal population with unknown variance, and the sample variance is found to be 20. Conduct an F-test at the 10% significance level to determine if the variances are significantly different.\n",
    "## ANSWER:_"
   ]
  },
  {
   "cell_type": "code",
   "execution_count": 15,
   "id": "7d1f7260-64f7-4191-af91-eab0121c1e16",
   "metadata": {},
   "outputs": [
    {
     "name": "stdout",
     "output_type": "stream",
     "text": [
      "F-value: 1.25\n",
      "Degrees of freedom (numerator, denominator): 9 , 14\n",
      "p-value: 0.6832194382585954\n",
      "Critical F-values (lower, upper): 0.3305268601412525 , 2.6457907352338195\n",
      "Fail to reject the null hypothesis. No significant evidence to suggest different variances.\n"
     ]
    }
   ],
   "source": [
    "import scipy.stats as stats\n",
    "\n",
    "sample_variance1 = 25\n",
    "sample_variance2 = 20\n",
    "n1 = 10\n",
    "n2 = 15\n",
    "\n",
    "# Calculate the F-value\n",
    "F_value = sample_variance1 / sample_variance2\n",
    "\n",
    "# Define the degrees of freedom\n",
    "df1 = n1 - 1\n",
    "df2 = n2 - 1\n",
    "\n",
    "# Calculate the p-value\n",
    "p_value = 2 * (1 - stats.f.cdf(F_value, df1, df2))\n",
    "\n",
    "# Determine the critical F-values at the 10% significance level\n",
    "lower_critical_f_value = stats.f.ppf(0.05, df1, df2)\n",
    "upper_critical_f_value = stats.f.ppf(0.95, df1, df2)\n",
    "\n",
    "# Print the results\n",
    "print(\"F-value:\", F_value)\n",
    "print(\"Degrees of freedom (numerator, denominator):\", df1, \",\", df2)\n",
    "print(\"p-value:\", p_value)\n",
    "print(\"Critical F-values (lower, upper):\", lower_critical_f_value, \",\", upper_critical_f_value)\n",
    "\n",
    "# Compare the calculated F-value with the critical F-values\n",
    "if F_value < lower_critical_f_value or F_value > upper_critical_f_value:\n",
    "    print(\"Reject the null hypothesis. The variances are significantly different.\")\n",
    "else:\n",
    "    print(\"Fail to reject the null hypothesis. No significant evidence to suggest different variances.\")\n"
   ]
  },
  {
   "cell_type": "markdown",
   "id": "522afd02-c6bd-47a6-a509-63f0394191d4",
   "metadata": {},
   "source": [
    "## Q8. The following data represent the waiting times in minutes at two different restaurants on a Saturday night: Restaurant A: 24, 25, 28, 23, 22, 20, 27; Restaurant B: 31, 33, 35, 30, 32, 36. Conduct an F-test at the 5% significance level to determine if the variances are significantly different.\n",
    "## ANSWER:-"
   ]
  },
  {
   "cell_type": "code",
   "execution_count": null,
   "id": "aeda0180-11d7-4fbd-b713-0177f3ca2ddd",
   "metadata": {},
   "outputs": [],
   "source": []
  },
  {
   "cell_type": "code",
   "execution_count": null,
   "id": "edb71b0c-e77f-456a-a16f-5f5ce85124c1",
   "metadata": {},
   "outputs": [],
   "source": []
  },
  {
   "cell_type": "code",
   "execution_count": null,
   "id": "6a84fe40-c335-40d6-b879-8b31e02a114d",
   "metadata": {},
   "outputs": [],
   "source": []
  },
  {
   "cell_type": "code",
   "execution_count": null,
   "id": "1bd2c2c1-624e-4696-a0cb-f998747bbc6b",
   "metadata": {},
   "outputs": [],
   "source": []
  }
 ],
 "metadata": {
  "kernelspec": {
   "display_name": "Python 3 (ipykernel)",
   "language": "python",
   "name": "python3"
  },
  "language_info": {
   "codemirror_mode": {
    "name": "ipython",
    "version": 3
   },
   "file_extension": ".py",
   "mimetype": "text/x-python",
   "name": "python",
   "nbconvert_exporter": "python",
   "pygments_lexer": "ipython3",
   "version": "3.10.8"
  }
 },
 "nbformat": 4,
 "nbformat_minor": 5
}
