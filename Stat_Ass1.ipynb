{
 "cells": [
  {
   "cell_type": "markdown",
   "id": "bf9115b7-08c4-4a03-9f96-d228a374a5b7",
   "metadata": {},
   "source": [
    "# 6th march 2023 statistics basics"
   ]
  },
  {
   "cell_type": "markdown",
   "id": "c3a08476-731a-411f-af5d-5d1b771686c0",
   "metadata": {},
   "source": [
    "# Q1. What is Statistics?"
   ]
  },
  {
   "cell_type": "markdown",
   "id": "67284aa6-a08b-4a83-963f-497636bb7ae7",
   "metadata": {},
   "source": [
    "## Answer:-\n",
    "Statistics is the science of collecting,organizing and analysis of data."
   ]
  },
  {
   "cell_type": "markdown",
   "id": "0e0703a0-df74-4596-b793-05d2426843a6",
   "metadata": {},
   "source": [
    "# Q2. Define the different types of statistics and give an example of when each type might be used."
   ]
  },
  {
   "cell_type": "markdown",
   "id": "96c99ed2-92c8-4d37-a884-8e9bcc1b40e8",
   "metadata": {},
   "source": [
    "## Answer:-\n",
    "Two types of statistics:-\n",
    "\n",
    "1.Descriptive statistics :- It consists of organizing and summarizing of the data.\n",
    "\n",
    "2.Inferential statistics :- It consists of using data you have measured to form conclusions on population.\n",
    "\n",
    "Descriptive statistics used in measure of central tendency and measure of dispersion.\n",
    "\n",
    "Example:-What is average height of the students in a class.\n",
    "\n",
    "Inferential statistics examples are Z-test,chi-test,Hypothesis testing,significance etc.\n",
    "\n",
    "Example:- Are the average height of the students in the class room simillar to what you expect in the entire college.\n"
   ]
  },
  {
   "cell_type": "markdown",
   "id": "24009233-1003-4c32-8451-0ff26abe1514",
   "metadata": {},
   "source": [
    "# Q3. What are the different types of data and how do they differ from each other? Provide an example of each type of data."
   ]
  },
  {
   "cell_type": "markdown",
   "id": "8a7295d9-6895-4677-8128-458871fd27c3",
   "metadata": {},
   "source": [
    "## Answer:-\n",
    "Data is of two types 1.Quantitative 2.Qualitative\n",
    "\n",
    "1.Quantitative:- It mainly represents the numerical data.\n",
    "\n",
    "a.Discrete :- Eg:- Number of children in a family.\n",
    "\n",
    "b.Continuous :- Eg:-Temperature varying on a heated iron rod.\n",
    "\n",
    "2.Qualitative :- It mainly represents the categorical data.\n",
    "\n",
    "a.Nominal:-Eg:- Gender,blood group,color\n",
    "\n",
    "b.Ordinal:- Eg:- Good,bad,satisfactory."
   ]
  },
  {
   "cell_type": "markdown",
   "id": "15b17842-5d03-4736-b014-db3c21a622f8",
   "metadata": {},
   "source": [
    "# Q4. Categorise the following datasets with respect to quantitative and qualitative data types:\n",
    "# (i) Grading in exam: A+, A, B+, B, C+, C, D, E\n",
    "# (ii) Colour of mangoes: yellow, green, orange, red\n",
    "# (iii) Height data of a class: [178.9, 179, 179.5, 176, 177.2, 178.3, 175.8,...]\n",
    "# (iv) Number of mangoes exported by a farm: [500, 600, 478, 672, ...]"
   ]
  },
  {
   "cell_type": "markdown",
   "id": "a04f67d1-e042-46ad-8631-f150eb2f342b",
   "metadata": {},
   "source": [
    "## Answer :-\n",
    "1.Ordinal\n",
    "\n",
    "2.Nominal\n",
    "\n",
    "3.Continuous\n",
    "\n",
    "4.Discrete"
   ]
  },
  {
   "cell_type": "markdown",
   "id": "15c1279d-8a79-4297-a930-3d8eb1c7d301",
   "metadata": {},
   "source": [
    "# Q5. Explain the concept of levels of measurement and give an example of a variable for each level."
   ]
  },
  {
   "cell_type": "markdown",
   "id": "56dea29c-eba2-42e6-a1c2-c168cc92985a",
   "metadata": {},
   "source": [
    "## Answer:-\n",
    "\n",
    "The concept of levels of measurement, also known as scales of measurement or levels of data, refers to the different ways in which variables can be categorized and measured. There are four commonly recognized levels of measurement: nominal, ordinal, interval, and ratio. Each level has its own characteristics and allows for different types of data analysis.\n",
    "\n",
    "1. Nominal Level: This is the most basic level of measurement and involves categorizing variables into distinct categories without any inherent order. In this level, variables are typically represented by labels or names. Examples of variables at the nominal level include gender (e.g., male, female) and marital status (e.g., single, married, divorced).\n",
    "\n",
    "2. Ordinal Level: Variables at the ordinal level possess the properties of nominal variables but also have a natural order or ranking. The differences between the categories, however, may not be uniform or quantifiable. Examples of variables at the ordinal level include survey ratings (e.g., 1 to 5 scale representing satisfaction levels) and educational attainment levels (e.g., high school, bachelor's degree, master's degree).\n",
    "\n",
    "3. Interval Level: Variables at the interval level have all the properties of ordinal variables, but in addition, the intervals between values are equally spaced and can be measured. However, there is no meaningful zero point. Examples of variables at the interval level include temperature measured in Celsius or Fahrenheit and years on the Gregorian calendar.\n",
    "\n",
    "4. Ratio Level: This is the highest level of measurement and includes variables that have all the properties of interval variables, but with the presence of a true zero point that represents the absence of the variable being measured. Ratios between values can be computed, and meaningful mathematical operations can be performed. Examples of variables at the ratio level include height, weight, and age (measured in years).\n",
    "\n",
    "It's important to note that the level of measurement determines the types of statistical analysis that can be applied to the data. For instance, while all statistical analyses can be performed on variables at the ratio level, only a subset of analyses can be applied to variables at the ordinal, interval, or nominal levels."
   ]
  },
  {
   "cell_type": "markdown",
   "id": "f6b5e395-376d-4f8c-89ac-3e4ce440ce41",
   "metadata": {},
   "source": [
    "# Q6. Why is it important to understand the level of measurement when analyzing data? Provide an example to illustrate your answer."
   ]
  },
  {
   "cell_type": "markdown",
   "id": "780bd35e-1d20-4fea-b93f-15b8faea8910",
   "metadata": {},
   "source": [
    "## Answer:-\n",
    "Understanding the level of measurement when analyzing data is crucial because it determines the appropriate statistical techniques and operations that can be applied to the data. Different levels of measurement have different properties and limitations, and using an inappropriate statistical analysis can lead to incorrect or misleading results.\n",
    "\n",
    "Let's consider an example to illustrate the importance of understanding the level of measurement. Suppose we want to investigate the relationship between customer satisfaction and the different levels of education among customers. We collect data on customer satisfaction levels using a 1 to 5 rating scale (ordinal level) and the highest level of education attained by each customer (nominal level).\n",
    "\n",
    "If we mistakenly treat the customer satisfaction ratings as interval or ratio level data, we might perform calculations such as computing the mean satisfaction score or conducting regression analysis, assuming equal intervals between the rating categories. However, since the data is at the ordinal level, these calculations would be inappropriate because the intervals between the categories may not be uniform or quantifiable.\n",
    "\n",
    "On the other hand, if we understand the level of measurement correctly, we can employ suitable statistical techniques for analyzing ordinal data, such as non-parametric tests like the Mann-Whitney U test or the Kruskal-Wallis test. These tests take into account the order/ranking of the data without making assumptions about equal intervals.\n",
    "\n",
    "Similarly, recognizing that education level is at the nominal level allows us to use appropriate analyses like chi-square tests to examine the relationship between education and customer satisfaction. These tests focus on the frequency distributions and patterns within categorical variables without assuming any ordering or magnitude.\n",
    "\n",
    "By understanding the level of measurement, we ensure that our data analysis aligns with the properties and limitations of the variables being studied. This promotes accurate interpretation of the results and helps avoid erroneous conclusions based on inappropriate statistical techniques."
   ]
  },
  {
   "cell_type": "markdown",
   "id": "f490f576-9839-4936-b32b-5bd105b27624",
   "metadata": {},
   "source": [
    "# Q7. How nominal data type is different from ordinal data type."
   ]
  },
  {
   "cell_type": "markdown",
   "id": "a914eacd-c525-4769-a8d6-8d445ab30821",
   "metadata": {},
   "source": [
    "## Answer:-\n",
    "Nominal and ordinal data types are both categories within the levels of measurement, but they have distinct characteristics that set them apart. Here are the key differences between nominal and ordinal data:\n",
    "\n",
    "1. Nature of Data: Nominal data consists of categories or labels that are mutually exclusive and have no inherent order or ranking. The categories in nominal data are simply used to group or classify data without any quantitative value attached to them. On the other hand, ordinal data also consists of categories, but these categories have a natural order or ranking associated with them.\n",
    "\n",
    "2. Measurement Properties: Nominal data lacks any inherent order or numerical value. The categories are typically represented using names, symbols, or codes. Each category is equal in status, and there is no notion of \"greater than\" or \"less than\" between them. In contrast, ordinal data not only has distinct categories but also possesses an inherent order or ranking. The categories in ordinal data can be arranged in a meaningful sequence, indicating a relative position or preference.\n",
    "\n",
    "3. Data Analysis: Nominal data is typically analyzed using non-parametric statistical tests, such as chi-square tests, mode calculation, or frequency distribution analysis. These tests focus on the frequency or proportion of each category and the associations between different categories. On the other hand, ordinal data allows for additional analyses beyond those used for nominal data. In addition to non-parametric tests, ordinal data can be subjected to rank-based tests, such as the Mann-Whitney U test or the Kruskal-Wallis test, which take into account the order/ranking of the categories.\n",
    "\n",
    "4. Mathematical Operations: Nominal data does not lend itself to mathematical operations because the categories cannot be quantitatively compared or manipulated. It is not meaningful to compute measures such as means or variances for nominal data. In contrast, ordinal data allows for limited mathematical operations. While the intervals between categories may not be equal or quantifiable, it is possible to compare the relative positions of categories, such as determining whether one category is greater or lesser than another.\n",
    "\n",
    "To summarize, nominal data is characterized by distinct, non-ordered categories, while ordinal data possesses an inherent order or ranking among its categories. Understanding the differences between these two data types is crucial for selecting appropriate statistical analyses and accurately interpreting the results in research or data analysis scenarios."
   ]
  },
  {
   "cell_type": "markdown",
   "id": "338a1854-f733-4a65-9432-46bd41f0c0b0",
   "metadata": {},
   "source": [
    "# Q8. Which type of plot can be used to display data in terms of range?"
   ]
  },
  {
   "cell_type": "markdown",
   "id": "3a7cdecb-a10c-4630-883f-fc10a2c3e6b4",
   "metadata": {},
   "source": [
    "## Answer:-\n",
    "A type of plot that can be used to display data in terms of range is a box plot, also known as a box-and-whisker plot. \n",
    "\n",
    "A box plot provides a visual representation of the distribution of a dataset, including the minimum and maximum values (range), as well as other key statistical measures like the median, quartiles, and potential outliers. The plot consists of a rectangular box, which represents the interquartile range (IQR) of the data, with a line inside indicating the median. Lines, or whiskers, extend from the box to represent the minimum and maximum values within a certain range. \n",
    "\n",
    "By displaying the range through the whiskers, a box plot provides a clear visualization of the spread or variability of the data. It allows for quick comparisons between multiple datasets and identifies any potential outliers. The range displayed by the whiskers provides an understanding of the minimum and maximum values observed in the dataset.\n",
    "\n",
    "Box plots are especially useful when comparing distributions across different groups or categories, as they provide a concise summary of the data's central tendency, dispersion, and range."
   ]
  },
  {
   "cell_type": "markdown",
   "id": "aafbd2ce-1be3-410f-8bb4-6e3abf11f26c",
   "metadata": {},
   "source": [
    "# Q9. Describe the difference between descriptive and inferential statistics. Give an example of each type of statistics and explain how they are used."
   ]
  },
  {
   "cell_type": "markdown",
   "id": "60b20b01-3826-4dbb-85ba-37a6a802c5c9",
   "metadata": {},
   "source": [
    "## Answer:-\n",
    "Descriptive statistics and inferential statistics are two branches of statistics that serve different purposes in data analysis:\n",
    "\n",
    "1. Descriptive Statistics: Descriptive statistics involves the analysis and summary of data to describe and present its main features. It aims to provide a clear and concise understanding of the data by organizing, summarizing, and presenting it in a meaningful way. Descriptive statistics does not involve making inferences or drawing conclusions beyond the analyzed data itself.\n",
    "\n",
    "Example: Let's say a researcher wants to describe a dataset containing the ages of a sample of individuals. Descriptive statistics would involve calculating measures such as the mean, median, and standard deviation of the ages, creating a frequency distribution, and generating visualizations like histograms or bar charts. These statistics and visualizations provide a clear summary of the data, allowing the researcher and others to understand the central tendency, variability, and distribution of ages within the sample.\n",
    "\n",
    "2. Inferential Statistics: Inferential statistics involves drawing conclusions or making inferences about a population based on a sample of data. It goes beyond the analyzed data and aims to make generalizations or predictions about the larger population from which the sample is drawn. Inferential statistics relies on probability theory and statistical models to make statements and draw conclusions about the population.\n",
    "\n",
    "Example: Suppose a pharmaceutical company conducts a clinical trial to assess the effectiveness of a new drug in treating a specific condition. The company randomly selects a sample of participants from the target population and assigns them to treatment and control groups. After analyzing the data from the trial, inferential statistics can be used to determine if there is a statistically significant difference between the treatment and control groups. This allows the researchers to infer that the observed difference, if statistically significant, is likely to exist in the larger population, and thus, the new drug can be considered effective.\n",
    "\n",
    "In summary, descriptive statistics focuses on summarizing and describing the features of a dataset, while inferential statistics enables researchers to make inferences and draw conclusions about populations based on sample data, using probability and statistical methods. Descriptive statistics provides insights into the analyzed data, while inferential statistics expands these insights to broader populations or phenomena."
   ]
  },
  {
   "cell_type": "markdown",
   "id": "c584f33a-9532-4c7b-875e-622aca4f1357",
   "metadata": {},
   "source": [
    "# Q10. What are some common measures of central tendency and variability used in statistics? Explain how each measure can be used to describe a dataset."
   ]
  },
  {
   "cell_type": "markdown",
   "id": "7c848912-8374-4c31-927b-55d5c9e41b14",
   "metadata": {},
   "source": [
    "## Answer:-\n"
   ]
  }
 ],
 "metadata": {
  "kernelspec": {
   "display_name": "Python 3 (ipykernel)",
   "language": "python",
   "name": "python3"
  },
  "language_info": {
   "codemirror_mode": {
    "name": "ipython",
    "version": 3
   },
   "file_extension": ".py",
   "mimetype": "text/x-python",
   "name": "python",
   "nbconvert_exporter": "python",
   "pygments_lexer": "ipython3",
   "version": "3.10.8"
  }
 },
 "nbformat": 4,
 "nbformat_minor": 5
}
