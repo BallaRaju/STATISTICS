{
 "cells": [
  {
   "cell_type": "markdown",
   "id": "a485f556-8b7f-4731-a55b-af72ef7bebd1",
   "metadata": {},
   "source": [
    "# 8th march Advanced statistics"
   ]
  },
  {
   "cell_type": "markdown",
   "id": "5ccd280c-a89f-49ac-8c2f-1eb6680cd640",
   "metadata": {},
   "source": [
    "# Q1. What is the Probability density function?"
   ]
  },
  {
   "cell_type": "markdown",
   "id": "bce0817a-c1c7-4ab5-813a-5ba88dbd6495",
   "metadata": {},
   "source": [
    "In statistics, the probability density function (PDF) is a function that describes the probability distribution of a continuous random variable. It is used to specify the likelihood of the random variable taking on a particular value within a given range.\n",
    "\n",
    "The PDF is typically denoted as f(x), where x represents the random variable. The PDF provides information about the relative likelihood of different values occurring. Unlike discrete random variables, which can take on only specific values, continuous random variables can take on any value within a certain range, so the PDF gives the probability of the random variable falling within a particular interval.\n",
    "\n",
    "The PDF satisfies the following properties:\n",
    "1. The PDF is always non-negative, meaning that f(x) ≥ 0 for all values of x.\n",
    "2. The total area under the PDF curve is equal to 1. This implies that the probability of the random variable taking any value within its range is 1.\n",
    "3. The probability of the random variable falling within a specific interval is given by the area under the PDF curve for that interval. This is obtained by integrating the PDF over the interval.\n",
    "\n",
    "Mathematically, the PDF is defined as the derivative of the cumulative distribution function (CDF) of the random variable. The CDF gives the probability that the random variable takes on a value less than or equal to a specific value.\n",
    "\n",
    "The PDF is a fundamental concept in probability theory and statistics, and it is used in various applications such as hypothesis testing, estimation, and modeling of continuous random variables."
   ]
  },
  {
   "cell_type": "markdown",
   "id": "55cae0ed-2bec-4a0b-af7b-6c616ce99471",
   "metadata": {},
   "source": [
    "# Q2. What are the types of Probability distribution?"
   ]
  },
  {
   "cell_type": "markdown",
   "id": "61b27f52-4bfe-4616-b9c9-7ab2b99fc0f7",
   "metadata": {},
   "source": [
    "There are several types of probability distributions that are commonly used in statistics and probability theory. Here are some of the most important ones:\n",
    "\n",
    "1. Uniform Distribution: In a uniform distribution, all outcomes within a given range have equal probability. The probability density function (PDF) is constant over the range of possible values.\n",
    "\n",
    "2. Normal Distribution (Gaussian Distribution): The normal distribution is a symmetric bell-shaped distribution. It is characterized by its mean (μ) and standard deviation (σ), which determine the center and spread of the distribution. Many natural phenomena follow a normal distribution, and it is widely used in statistical inference.\n",
    "\n",
    "3. Binomial Distribution: The binomial distribution is used to model the number of successes in a fixed number of independent Bernoulli trials. It has two parameters: the probability of success (p) in each trial and the number of trials (n).\n",
    "\n",
    "4. Poisson Distribution: The Poisson distribution is often used to model the number of events occurring within a fixed interval of time or space. It is characterized by a single parameter λ, which represents the average rate of occurrence.\n",
    "\n",
    "5. Exponential Distribution: The exponential distribution models the time between events in a Poisson process, where events occur continuously and independently at a constant average rate. It is characterized by a parameter λ, which represents the rate of occurrence.\n",
    "\n",
    "6. Gamma Distribution: The gamma distribution is a generalization of the exponential distribution and is used to model continuous positive random variables. It has two parameters: a shape parameter (α) and a rate parameter (β).\n",
    "\n",
    "7. Chi-Squared Distribution: The chi-squared distribution is commonly used in hypothesis testing and confidence interval estimation. It arises from the sum of squared independent standard normal random variables. The number of degrees of freedom determines the shape of the distribution.\n",
    "\n",
    "8. Student's t-Distribution: The t-distribution is often used in hypothesis testing when the sample size is small and the population standard deviation is unknown. It is characterized by the degrees of freedom parameter.\n",
    "\n",
    "9.log-normal ditribution.\n",
    "\n",
    "10.power-law distribution\n",
    "\n",
    "These are just a few examples of probability distributions, and there are many more distributions that are used to model specific types of data and phenomena. The choice of the appropriate distribution depends on the nature of the data and the problem at hand."
   ]
  },
  {
   "cell_type": "markdown",
   "id": "d2790be5-8833-4a00-a15d-b766ad19c85a",
   "metadata": {},
   "source": [
    "# Q3. Write a Python function to calculate the probability density function of a normal distribution with given mean and standard deviation at a given point."
   ]
  },
  {
   "cell_type": "code",
   "execution_count": 1,
   "id": "d90ec07e-cd24-40f0-b5fd-5effe1087160",
   "metadata": {},
   "outputs": [],
   "source": [
    "import math\n",
    "\n",
    "def calculate_normal_pdf(x, mean, std_dev):\n",
    "    coefficient = 1 / (std_dev * math.sqrt(2 * math.pi))\n",
    "    exponent = -((x - mean) ** 2) / (2 * std_dev ** 2)\n",
    "    pdf = coefficient * math.exp(exponent)\n",
    "    return pdf\n"
   ]
  },
  {
   "cell_type": "code",
   "execution_count": 2,
   "id": "029b345e-bb34-47d9-87f3-6e77b200a658",
   "metadata": {},
   "outputs": [
    {
     "name": "stdout",
     "output_type": "stream",
     "text": [
      "The PDF at x = 2.5 is: 0.01752830049356854\n"
     ]
    }
   ],
   "source": [
    "x = 2.5\n",
    "mean = 0\n",
    "std_dev = 1\n",
    "\n",
    "pdf_value = calculate_normal_pdf(x, mean, std_dev)\n",
    "print(f\"The PDF at x = {x} is: {pdf_value}\")\n"
   ]
  },
  {
   "cell_type": "markdown",
   "id": "101e793f-cefa-4a6d-8eca-a5d43ec68dba",
   "metadata": {},
   "source": [
    "# Q4. What are the properties of Binomial distribution? Give two examples of events where binomial distribution can be applied."
   ]
  },
  {
   "cell_type": "markdown",
   "id": "c6899962-fb52-45a9-adeb-8e5cc39d1326",
   "metadata": {},
   "source": [
    "The binomial distribution has several properties that make it a useful tool for modeling and analyzing certain types of events. Here are the key properties of the binomial distribution:\n",
    "\n",
    "1. Fixed number of Trials: The binomial distribution represents a fixed number of independent trials or experiments, denoted by 'n'. Each trial can result in one of two outcomes, typically referred to as success and failure.\n",
    "\n",
    "2. Independent Trials: The trials in a binomial distribution are assumed to be independent of each other, meaning that the outcome of one trial does not influence the outcome of subsequent trials.\n",
    "\n",
    "3. Constant Probability: The probability of success, denoted by 'p', remains constant for each trial. Similarly, the probability of failure, denoted by 'q', is constant and complementary to 'p' (i.e., q = 1 - p).\n",
    "\n",
    "4. Binary Outcomes: The outcomes of each trial are binary, typically labeled as success (S) or failure (F). The binomial random variable represents the count of successes in 'n' trials.\n",
    "\n",
    "5. Fixed Number of Successes: The binomial distribution is concerned with the probability of obtaining a specific number of successes, denoted by 'k', out of 'n' trials.\n",
    "\n",
    "Two examples of events where the binomial distribution can be applied are:\n",
    "\n",
    "1. Coin Flipping: Consider a situation where you flip a fair coin 10 times, and you are interested in the probability of getting exactly 6 heads. Each flip can be considered as a binomial trial with two possible outcomes (head or tail), and the probability of getting a head remains constant (0.5) for each trial. The binomial distribution can be used to calculate the probability of obtaining a specific number of heads (e.g., 6) out of the 10 flips.\n",
    "\n",
    "2. Quality Control: Suppose a factory produces a large batch of items, and a quality control inspector randomly selects 20 items to check for defects. The inspector is interested in the probability of finding exactly 3 defective items in the sample. Each item being checked can be considered as a binomial trial with two outcomes (defective or non-defective), and the probability of finding a defective item remains constant for each trial. The binomial distribution can be used to determine the probability of obtaining a specific number of defective items (e.g., 3) in the sample of 20 items.\n",
    "\n",
    "In both of these examples, the binomial distribution allows us to model and calculate the probabilities associated with obtaining a specific number of successes (e.g., heads or defective items) out of a fixed number of independent trials."
   ]
  },
  {
   "cell_type": "markdown",
   "id": "95f8d010-40ee-469d-b086-55321fa22d18",
   "metadata": {},
   "source": [
    "# Q5. Generate a random sample of size 1000 from a binomial distribution with probability of success 0.4 and plot a histogram of the results using matplotlib."
   ]
  },
  {
   "cell_type": "code",
   "execution_count": 3,
   "id": "eb064d00-2d80-4267-b069-635f57833229",
   "metadata": {},
   "outputs": [
    {
     "data": {
      "image/png": "[encoded data removed]",
      "text/plain": [
       "<Figure size 640x480 with 1 Axes>"
      ]
     },
     "metadata": {},
     "output_type": "display_data"
    }
   ],
   "source": [
    "import numpy as np\n",
    "import matplotlib.pyplot as plt\n",
    "\n",
    "# Set the parameters\n",
    "sample_size = 1000\n",
    "probability_success = 0.4\n",
    "\n",
    "# Generate the random sample from the binomial distribution\n",
    "random_sample = np.random.binomial(1, probability_success, sample_size)\n",
    "\n",
    "# Plot the histogram\n",
    "plt.hist(random_sample, bins=2, edgecolor='black')\n",
    "plt.xlabel('Success (1) / Failure (0)')\n",
    "plt.ylabel('Frequency')\n",
    "plt.title('Binomial Distribution - Random Sample')\n",
    "plt.show()\n"
   ]
  },
  {
   "cell_type": "markdown",
   "id": "cefbef89-5ade-4e2a-83c5-960365efbf5a",
   "metadata": {},
   "source": [
    "# Q6. Write a Python function to calculate the cumulative distribution function of a Poisson distribution with given mean at a given point."
   ]
  },
  {
   "cell_type": "code",
   "execution_count": 4,
   "id": "ec2a6608-3e12-4689-b3a4-c6efcc40677c",
   "metadata": {},
   "outputs": [],
   "source": [
    "import math\n",
    "\n",
    "def calculate_poisson_cdf(k, mean):\n",
    "    cdf = 0.0\n",
    "    for i in range(k + 1):\n",
    "        cdf += math.exp(-mean) * (mean ** i) / math.factorial(i)\n",
    "    return cdf\n"
   ]
  },
  {
   "cell_type": "code",
   "execution_count": 5,
   "id": "ad68ae27-96d4-4612-b947-36eaa2ee8bf3",
   "metadata": {},
   "outputs": [
    {
     "name": "stdout",
     "output_type": "stream",
     "text": [
      "The CDF at k = 3 is: 0.7575761331330659\n"
     ]
    }
   ],
   "source": [
    "k = 3\n",
    "mean = 2.5\n",
    "\n",
    "cdf_value = calculate_poisson_cdf(k, mean)\n",
    "print(f\"The CDF at k = {k} is: {cdf_value}\")\n"
   ]
  },
  {
   "cell_type": "markdown",
   "id": "8cbc505a-ed35-44fa-845f-ce35836881f7",
   "metadata": {},
   "source": [
    "# Q7. How Binomial distribution different from Poisson distribution?"
   ]
  },
  {
   "cell_type": "markdown",
   "id": "25b51116-a6be-4663-b51e-7dece1b3ebc2",
   "metadata": {},
   "source": [
    "The binomial distribution and Poisson distribution are both probability distributions used to model events with discrete outcomes. However, they have some key differences:\n",
    "\n",
    "1. Nature of Events: The binomial distribution models a fixed number of independent trials, each with two possible outcomes (success or failure). The number of trials, denoted by 'n', is predetermined. On the other hand, the Poisson distribution models the number of events occurring in a fixed interval of time or space, assuming that the events happen randomly and independently. The number of events, denoted by 'k', is not fixed in advance.\n",
    "\n",
    "2. Number of Outcomes: In the binomial distribution, there are two possible outcomes for each trial (success or failure). The probability of success, denoted by 'p', remains constant across all trials. In contrast, the Poisson distribution represents a count of events and can have an infinite number of possible outcomes (0, 1, 2, 3, and so on).\n",
    "\n",
    "3. Parameters: The binomial distribution is characterized by two parameters: 'n' (the number of trials) and 'p' (the probability of success in each trial). The mean of the binomial distribution is given by μ = np, and the variance is given by σ^2 = np(1-p). In the Poisson distribution, there is only one parameter: 'λ' (lambda), which represents the average rate of events occurring in the given interval. Both the mean and variance of the Poisson distribution are equal to λ.\n",
    "\n",
    "4. Assumptions: The binomial distribution assumes that the trials are independent and identically distributed, meaning the outcome of one trial does not influence the outcome of another trial. The Poisson distribution assumes that the events occur randomly and independently. It does not require a fixed number of trials, and the events can happen at any time or location within the specified interval.\n",
    "\n",
    "5. Shape of Distribution: The binomial distribution is generally symmetric when 'p' is close to 0.5, and it becomes increasingly skewed when 'p' deviates from 0.5. The Poisson distribution is typically skewed to the right, especially for smaller values of 'λ'.\n",
    "\n",
    "6. Application: The binomial distribution is often used when dealing with a specific number of trials or a fixed number of successes. It is commonly used in situations such as coin flips, quality control, and opinion polls. The Poisson distribution is used to model the number of events occurring within a given interval of time or space, such as the number of phone calls received at a call center in a minute, the number of cars passing through a toll booth in an hour, or the number of defects in a product.\n",
    "\n",
    "Overall, while both distributions deal with discrete outcomes, the binomial distribution focuses on a fixed number of trials with two outcomes, while the Poisson distribution focuses on the count of events occurring in a given interval with an average rate."
   ]
  },
  {
   "cell_type": "markdown",
   "id": "a71a696b-6371-4813-b1cd-4c7691266eb5",
   "metadata": {},
   "source": [
    "# Q8. Generate a random sample of size 1000 from a Poisson distribution with mean 5 and calculate the sample mean and variance."
   ]
  },
  {
   "cell_type": "code",
   "execution_count": 7,
   "id": "d5d5f27a-4a3b-403d-a3d3-d99a7a50645a",
   "metadata": {},
   "outputs": [
    {
     "name": "stdout",
     "output_type": "stream",
     "text": [
      "Sample Mean: 4.996\n",
      "Sample Variance: 5.129984\n"
     ]
    }
   ],
   "source": [
    "import numpy as np\n",
    "\n",
    "# Set the parameters\n",
    "sample_size = 1000\n",
    "mean = 5\n",
    "\n",
    "# Generate the random sample from the Poisson distribution\n",
    "random_sample = np.random.poisson(mean, sample_size)\n",
    "\n",
    "# Calculate the sample mean and variance\n",
    "sample_mean = np.mean(random_sample)\n",
    "sample_variance = np.var(random_sample)\n",
    "\n",
    "print(f\"Sample Mean: {sample_mean}\")\n",
    "print(f\"Sample Variance: {sample_variance}\")\n"
   ]
  },
  {
   "cell_type": "markdown",
   "id": "fa0ade7c-2d08-47f8-b9b2-9d8e26a658a4",
   "metadata": {},
   "source": [
    "# Q9. How mean and variance are related in Binomial distribution and Poisson distribution?"
   ]
  },
  {
   "cell_type": "markdown",
   "id": "e9501335-ab78-4765-a147-36c568863dad",
   "metadata": {},
   "source": [
    "In both the binomial distribution and Poisson distribution, the mean and variance are related, but the specific relationship differs between the two distributions.\n",
    "\n",
    "In the binomial distribution, the mean (μ) and variance (σ^2) are related as follows:\n",
    "μ = n * p\n",
    "σ^2 = n * p * (1 - p)\n",
    "where:\n",
    "- n is the number of trials,\n",
    "- p is the probability of success in each trial.\n",
    "\n",
    "The mean of the binomial distribution is equal to the product of the number of trials and the probability of success. The variance is equal to the product of the number of trials, the probability of success, and the probability of failure (1 - p).\n",
    "\n",
    "In the Poisson distribution, the mean (λ) and variance (σ^2) are related as follows:\n",
    "μ = λ\n",
    "σ^2 = λ\n",
    "where:\n",
    "- λ (lambda) is the average rate of events occurring in the given interval.\n",
    "\n",
    "Both the mean and variance of the Poisson distribution are equal to the average rate λ. This means that in a Poisson distribution, the mean and variance are numerically equal.\n",
    "\n",
    "In summary:\n",
    "- In the binomial distribution, the variance depends on both the number of trials and the probability of success.\n",
    "- In the Poisson distribution, the variance is solely determined by the average rate of events.\n",
    "\n",
    "The relationship between the mean and variance in these distributions reflects the dispersion or spread of the data. A larger variance indicates greater variability or dispersion in the data, while a smaller variance indicates less variability."
   ]
  },
  {
   "cell_type": "markdown",
   "id": "64f6370c-dcd8-4b0c-914c-4a734cd95010",
   "metadata": {},
   "source": [
    "# Q10. In normal distribution with respect to mean position, where does the least frequent data appear?"
   ]
  },
  {
   "cell_type": "markdown",
   "id": "d0396e43-fe4d-418b-853d-b0c5d4f6299f",
   "metadata": {},
   "source": [
    "In a normal distribution, the least frequent data points appear in the tails of the distribution, farthest away from the mean.\n",
    "\n",
    "A normal distribution is symmetric, with a bell-shaped curve centered around the mean. The highest frequency of data points occurs at the mean, which is the point of maximum density. As you move away from the mean in either direction, the frequency of data points gradually decreases.\n",
    "\n",
    "In the tails of the normal distribution (i.e., the extreme ends of the curve), the data points are less frequent compared to the central region. The tails represent the values that are farther away from the mean, either on the left (negative values) or right (positive values) side.\n",
    "\n",
    "Therefore, the least frequent data points appear in the tails of the normal distribution, indicating the values that are relatively rare or extreme in relation to the mean."
   ]
  },
  {
   "cell_type": "code",
   "execution_count": null,
   "id": "d15e64db-efc9-4066-8244-234dbad66de5",
   "metadata": {},
   "outputs": [],
   "source": []
  }
 ],
 "metadata": {
  "kernelspec": {
   "display_name": "Python 3 (ipykernel)",
   "language": "python",
   "name": "python3"
  },
  "language_info": {
   "codemirror_mode": {
    "name": "ipython",
    "version": 3
   },
   "file_extension": ".py",
   "mimetype": "text/x-python",
   "name": "python",
   "nbconvert_exporter": "python",
   "pygments_lexer": "ipython3",
   "version": "3.10.8"
  }
 },
 "nbformat": 4,
 "nbformat_minor": 5
}
