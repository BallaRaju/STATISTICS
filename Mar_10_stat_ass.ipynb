{
 "cells": [
  {
   "cell_type": "markdown",
   "id": "7cf9fd5e-f98f-4664-bea3-5ea097c971b9",
   "metadata": {},
   "source": [
    "# 10 MARCH ASSIGNMENT ADVANCE STATISTICS"
   ]
  },
  {
   "cell_type": "markdown",
   "id": "33e14d0b-ea48-43e9-8e72-213b673a7dfe",
   "metadata": {},
   "source": [
    "## Q1: What is Estimation Statistics? Explain point estimate and interval estimate.\n",
    "## ANSWER:-"
   ]
  },
  {
   "cell_type": "markdown",
   "id": "714cc704-6215-4067-a629-126ea84c5908",
   "metadata": {},
   "source": [
    "Estimation in statistics refers to the process of using sample data to draw conclusions or make inferences about population parameters. It involves providing estimates, either in the form of a point estimate or an interval estimate, for the unknown parameters of interest.\n",
    "\n",
    "1. Point Estimate:\n",
    "A point estimate is a single value that is calculated from the sample data and used as an estimate for the population parameter. It is a best guess or approximation of the true value of the parameter. For example, the sample mean (x̄) is often used as a point estimate for the population mean (μ), and the sample proportion (p̂) is used as a point estimate for the population proportion (p).\n",
    "\n",
    "Point estimates provide a single value that represents the estimated value of the parameter. However, they do not provide any information about the uncertainty associated with the estimate. To address this, interval estimates are used.\n",
    "\n",
    "2. Interval Estimate:\n",
    "An interval estimate, also known as a confidence interval, provides a range of values within which the population parameter is likely to fall. It takes into account the variability in the sample data and provides a measure of uncertainty associated with the estimate.\n",
    "\n",
    "A confidence interval consists of two values, an upper limit and a lower limit, which are calculated based on the sample data and the desired level of confidence. The level of confidence represents the probability that the interval estimate contains the true population parameter.\n",
    "\n",
    "For example, a 95% confidence interval for the population mean would provide a range of values within which we are 95% confident that the true population mean lies. It gives an indication of the precision or accuracy of the estimate.\n",
    "\n",
    "In summary, estimation in statistics involves providing estimates for population parameters. Point estimates are single values that serve as approximations of the unknown parameter, while interval estimates, such as confidence intervals, provide a range of values within which the parameter is likely to fall. Both point estimates and interval estimates are essential tools in statistical inference, allowing us to make conclusions about populations based on sample data."
   ]
  },
  {
   "cell_type": "markdown",
   "id": "adbcf413-0ba0-4599-ba3e-1ea2274ad6ae",
   "metadata": {},
   "source": [
    "## Q2. Write a Python function to estimate the population mean using a sample mean and standard deviation.\n",
    "## ANSWER:-"
   ]
  },
  {
   "cell_type": "code",
   "execution_count": 8,
   "id": "39c9cec7-6003-4525-ae3c-670f11698b9d",
   "metadata": {},
   "outputs": [],
   "source": [
    "#Here's a Python function that estimates the population mean using a sample mean and standard deviation:\n",
    "\n",
    "import math\n",
    "\n",
    "def estimate_population_mean(sample_mean, sample_std_dev, sample_size):\n",
    "    # Calculate the standard error\n",
    "    standard_error = sample_std_dev / math.sqrt(sample_size)\n",
    "    \n",
    "    # Calculate the margin of error (using a desired level of confidence, such as 95%)\n",
    "    confidence_level = 1.96  # For a 95% confidence level (z-value for 95% confidence level is 1.96)\n",
    "    margin_of_error = confidence_level * standard_error\n",
    "    \n",
    "    # Calculate the lower and upper bounds of the confidence interval\n",
    "    lower_bound = sample_mean - margin_of_error\n",
    "    upper_bound = sample_mean + margin_of_error\n",
    "    \n",
    "    return lower_bound, upper_bound\n",
    "\n",
    "\n",
    "#In this function, we assume that the sample mean (`sample_mean`), sample standard deviation (`sample_std_dev`), and sample size (`sample_size`) are provided as input parameters.\n",
    "\n",
    "#The function starts by calculating the standard error, which is the ratio of the sample standard deviation to the square root of the sample size. Then, it computes the margin of error by multiplying the standard error by a z-value corresponding to the desired level of confidence. In the example above, we used a 95% confidence level, so the z-value is 1.96.\n",
    "\n",
    "#Finally, the function calculates the lower and upper bounds of the confidence interval by subtracting and adding the margin of error to the sample mean, respectively. It returns the lower and upper bounds as the estimate of the population mean.\n",
    "\n",
    "#Note that this function assumes that the sample is representative of the population and that the data follows a normal distribution.\"\"\""
   ]
  },
  {
   "cell_type": "markdown",
   "id": "b8df88cc-f238-435e-b71d-8bad3d0859ed",
   "metadata": {},
   "source": [
    "## Q3: What is Hypothesis testing? Why is it used? State the importance of Hypothesis testing.\n",
    "## ANSWER:-"
   ]
  },
  {
   "cell_type": "markdown",
   "id": "164792f2-2b07-4f06-9237-fc6f03878b21",
   "metadata": {},
   "source": [
    "Hypothesis testing is a statistical method used to make decisions or draw conclusions about a population based on sample data. It involves formulating a null hypothesis (H0) and an alternative hypothesis (Ha or H1), collecting data, performing statistical analysis, and evaluating the evidence against the null hypothesis.\n",
    "\n",
    "The primary purpose of hypothesis testing is to provide a structured framework for making statistical inferences and drawing conclusions about population parameters or relationships between variables. Here are some reasons why hypothesis testing is important:\n",
    "\n",
    "1. Testing Research Questions: Hypothesis testing allows researchers to test specific research questions and hypotheses. It helps determine whether the observed data provides evidence to support or contradict the stated hypothesis.\n",
    "\n",
    "2. Statistical Inference: Hypothesis testing enables researchers to generalize findings from a sample to a larger population. By analyzing a representative sample, hypothesis testing allows us to make inferences about the entire population.\n",
    "\n",
    "3. Decision-Making: Hypothesis testing provides a basis for making data-driven decisions. It helps to objectively evaluate the evidence and determine whether it is sufficient to support a particular claim or decision.\n",
    "\n",
    "4. Scientific Validity: Hypothesis testing is an essential component of the scientific method. It promotes rigorous and systematic investigation by providing a framework for testing and validating theories, assumptions, and predictions.\n",
    "\n",
    "5. Quality Control and Process Improvement: Hypothesis testing is valuable in quality control and process improvement efforts. It allows organizations to assess the effectiveness of interventions, identify problems, and make data-driven decisions to improve processes and outcomes.\n",
    "\n",
    "6. Risk Assessment: Hypothesis testing helps in assessing risks and uncertainties associated with decision-making. By evaluating evidence against the null hypothesis, it provides a measure of confidence or uncertainty in the conclusions drawn.\n",
    "\n",
    "7. Avoiding Errors: Hypothesis testing helps to control Type I and Type II errors. Type I error occurs when the null hypothesis is rejected incorrectly, and Type II error occurs when the null hypothesis is not rejected despite it being false. Hypothesis testing provides a framework to control and minimize these errors.\n",
    "\n",
    "Overall, hypothesis testing is important as it provides a systematic approach to test specific claims, draw inferences about populations, make data-driven decisions, validate theories, and ensure scientific rigor. It is a fundamental tool in statistical analysis and critical for advancing scientific knowledge and evidence-based decision-making."
   ]
  },
  {
   "cell_type": "markdown",
   "id": "0d5899fc-48b5-4328-a5b5-826d472064be",
   "metadata": {},
   "source": [
    "## Q4. Create a hypothesis that states whether the average weight of male college students is greater than the average weight of female college students.\n",
    "## ANSWER:-"
   ]
  },
  {
   "cell_type": "markdown",
   "id": "5fdf1130-5e63-40e7-ac9c-c25edb752ac0",
   "metadata": {},
   "source": [
    "Null hypothesis (H0): The average weight of male college students is equal to or less than the average weight of female college students.\n",
    "\n",
    "Alternative hypothesis (Ha or H1): The average weight of male college students is greater than the average weight of female college students.\n",
    "\n",
    "In statistical notation:\n",
    "\n",
    "H0: μ_male ≤ μ_female\n",
    "\n",
    "Ha: μ_male > μ_female\n",
    "\n",
    "where μ_male represents the population mean weight of male college students, and μ_female represents the population mean weight of female college students.\n",
    "\n",
    "This hypothesis states that there is no significant difference or that male college students' average weight is equal to or less than female college students' average weight. The alternative hypothesis counters this claim, proposing that male college students have a greater average weight than female college students.\n",
    "\n",
    "To test this hypothesis, data would need to be collected on the weights of male and female college students, and appropriate statistical tests, such as a t-test or a z-test, can be conducted to analyze the data and evaluate the evidence against the null hypothesis."
   ]
  },
  {
   "cell_type": "markdown",
   "id": "64c48e80-0108-42a4-9f12-bccbe7b776c1",
   "metadata": {},
   "source": [
    "## Q5. Write a Python script to conduct a hypothesis test on the difference between two population means, given a sample from each population.\n",
    "## ANSWER:_"
   ]
  },
  {
   "cell_type": "code",
   "execution_count": 3,
   "id": "6e9a5c9e-6601-474f-8dd6-2131f51c3cfb",
   "metadata": {},
   "outputs": [
    {
     "name": "stdout",
     "output_type": "stream",
     "text": [
      "Test statistic: -5.0\n",
      "p-value: 0.001052825793366539\n",
      "Reject null hypothesis\n"
     ]
    }
   ],
   "source": [
    "import numpy as np\n",
    "from scipy import stats\n",
    "\n",
    "def hypothesis_test(sample1, sample2, alpha):\n",
    "    # Calculate sample statistics\n",
    "    n1 = len(sample1)\n",
    "    n2 = len(sample2)\n",
    "    mean1 = np.mean(sample1)\n",
    "    mean2 = np.mean(sample2)\n",
    "    std1 = np.std(sample1, ddof=1)\n",
    "    std2 = np.std(sample2, ddof=1)\n",
    "\n",
    "    # Calculate the test statistic (independent samples t-test)\n",
    "    t_statistic, p_value = stats.ttest_ind(sample1, sample2)\n",
    "\n",
    "    # Determine the critical value based on the desired significance level\n",
    "    critical_value = stats.t.ppf(1 - alpha/2, n1 + n2 - 2)\n",
    "\n",
    "    # Determine if the null hypothesis should be rejected\n",
    "    if abs(t_statistic) > critical_value:\n",
    "        result = \"Reject null hypothesis\"\n",
    "    else:\n",
    "        result = \"Fail to reject null hypothesis\"\n",
    "\n",
    "    # Return the test statistics and result\n",
    "    return t_statistic, p_value, result\n",
    "\n",
    "# Example usage\n",
    "sample1 = [1, 2, 3, 4, 5]\n",
    "sample2 = [6, 7, 8, 9, 10]\n",
    "alpha = 0.05\n",
    "\n",
    "t_statistic, p_value, result = hypothesis_test(sample1, sample2, alpha)\n",
    "\n",
    "print(\"Test statistic:\", t_statistic)\n",
    "print(\"p-value:\", p_value)\n",
    "print(result)\n"
   ]
  },
  {
   "cell_type": "markdown",
   "id": "d9a0400e-cf4a-46be-845f-e3f536c3ccaf",
   "metadata": {},
   "source": [
    "## Q6: What is a null and alternative hypothesis? Give some examples.\n",
    "## ANSWER:-"
   ]
  },
  {
   "cell_type": "markdown",
   "id": "e512eba6-d8a5-4a51-a186-fe1ce399c87e",
   "metadata": {},
   "source": [
    "In hypothesis testing, the null hypothesis (H0) and alternative hypothesis (Ha or H1) are two opposing statements that are formulated to evaluate and draw conclusions about a population parameter or the relationship between variables. Let's discuss their definitions and provide some examples:\n",
    "\n",
    "Null Hypothesis (H0): The null hypothesis represents the default assumption or claim that is initially assumed to be true. It often states that there is no significant difference, relationship, or effect present in the population. It serves as a baseline or reference point against which the alternative hypothesis is compared.\n",
    "\n",
    "Examples of null hypotheses:\n",
    "\n",
    "1. The average height of adult males is equal to 175 cm.\n",
    "\n",
    "2. The mean scores of two groups are equal.\n",
    "\n",
    "3. The correlation coefficient between variables X and Y is zero.\n",
    "\n",
    "4. The proportion of defective products is less than or equal to 5%.\n",
    "\n",
    "5. There is no difference in the average test scores before and after an intervention.\n",
    "\n",
    "Alternative Hypothesis (Ha or H1): The alternative hypothesis contradicts or opposes the null hypothesis. It proposes that there is a significant difference, relationship, or effect present in the population. It represents the claim or hypothesis that researchers are often interested in supporting or providing evidence for.\n",
    "\n",
    "Examples of alternative hypotheses (corresponding to the above null hypotheses):\n",
    "\n",
    "1. The average height of adult males is greater than 175 cm.\n",
    "\n",
    "2. The mean scores of Group A are higher than the mean scores of Group B.\n",
    "\n",
    "3. The correlation coefficient between variables X and Y is not zero.\n",
    "\n",
    "4. The proportion of defective products is greater than 5%.\n",
    "\n",
    "5. The average test scores after the intervention are higher than the average test scores before the intervention.\n",
    "\n",
    "In hypothesis testing, the goal is to evaluate the evidence against the null hypothesis and determine whether there is sufficient evidence to reject it in favor of the alternative hypothesis. The choice between the null and alternative hypotheses depends on the research question, prior knowledge, and the specific claims or hypotheses being tested."
   ]
  },
  {
   "cell_type": "markdown",
   "id": "769548aa-82e8-410b-9541-6dc6d65d1237",
   "metadata": {},
   "source": [
    "## Q7: Write down the steps involved in hypothesis testing.\n",
    "## ANSWER:-"
   ]
  },
  {
   "cell_type": "markdown",
   "id": "bd1bb7e7-d592-46ba-a59f-80a54a495547",
   "metadata": {},
   "source": [
    "Hypothesis testing involves a series of steps to evaluate the evidence against a null hypothesis and draw conclusions. Here are the general steps involved in hypothesis testing:\n",
    "\n",
    "1. State the null hypothesis (H0) and alternative hypothesis (Ha or H1): Clearly define the null hypothesis, representing the default assumption or claim, and the alternative hypothesis, which opposes the null hypothesis and represents the claim of interest.\n",
    "\n",
    "2. Set the significance level (α): Determine the desired level of significance or the maximum probability of rejecting the null hypothesis when it is true. Commonly used significance levels are 0.05 (5%) or 0.01 (1%), but it depends on the specific context and requirements of the study.\n",
    "\n",
    "3. Collect and analyze the data: Gather data through experiments, surveys, or observational studies. Perform appropriate statistical analysis techniques to analyze the data and calculate relevant statistics, such as means, proportions, or correlations.\n",
    "\n",
    "4. Determine the test statistic and calculate the p-value: Choose a suitable test statistic that aligns with the research question and the type of data being analyzed. Calculate the p-value, which represents the probability of obtaining the observed data or more extreme results if the null hypothesis is true.\n",
    "\n",
    "5. Compare the p-value to the significance level: Compare the calculated p-value to the predetermined significance level (α). If the p-value is less than or equal to α (p ≤ α), the results are considered statistically significant, and the null hypothesis is rejected. If the p-value is greater than α (p > α), the results are not statistically significant, and the null hypothesis is not rejected.\n",
    "\n",
    "6. Draw conclusions: Based on the results, make conclusions about the null hypothesis and the alternative hypothesis. If the null hypothesis is rejected, it suggests evidence in favor of the alternative hypothesis. If the null hypothesis is not rejected, it indicates insufficient evidence to support the alternative hypothesis.\n",
    "\n",
    "7. Report the findings: Communicate the results of the hypothesis test, including the conclusion drawn, the test statistic, the p-value, and any other relevant statistics or measures. Provide a clear interpretation of the findings and discuss their implications.\n",
    "\n",
    "It's important to note that these steps provide a general framework for hypothesis testing, but the specific procedures and statistical tests may vary depending on the research question, the type of data, and the hypotheses being tested."
   ]
  },
  {
   "cell_type": "markdown",
   "id": "7e6b1564-f005-457b-a89e-f1bf8ba5648e",
   "metadata": {},
   "source": [
    "## Q8. Define p-value and explain its significance in hypothesis testing.\n",
    "## ANSWER:-"
   ]
  },
  {
   "cell_type": "markdown",
   "id": "483bdfe6-4b2e-451b-9e3f-aad6e4db08d0",
   "metadata": {},
   "source": [
    "The p-value is a probability value that measures the strength of evidence against the null hypothesis in hypothesis testing. It quantifies the likelihood of obtaining the observed data, or more extreme results, assuming that the null hypothesis is true.\n",
    "\n",
    "The significance of the p-value in hypothesis testing lies in its interpretation and its role in decision-making. Here are some key points regarding the significance of the p-value:\n",
    "\n",
    "1. Evaluating Statistical Significance: The p-value provides a measure of the statistical significance of the observed data. It indicates how likely it is to observe the data, or more extreme results, under the assumption that the null hypothesis is true. A low p-value suggests that the observed data is unlikely to have occurred by chance alone if the null hypothesis is true.\n",
    "\n",
    "2. Comparing to the Significance Level: The p-value is compared to a predetermined significance level (α) to make a decision in hypothesis testing. The significance level represents the threshold for rejecting the null hypothesis. If the p-value is less than or equal to α (p ≤ α), the results are considered statistically significant, and the null hypothesis is rejected. If the p-value is greater than α (p > α), the results are not statistically significant, and the null hypothesis is not rejected.\n",
    "\n",
    "3. Supporting the Alternative Hypothesis: When the p-value is low (below the significance level), it provides evidence against the null hypothesis and supports the alternative hypothesis. It suggests that the observed data is unlikely to have occurred due to random chance alone, thereby providing support for the claim made in the alternative hypothesis.\n",
    "\n",
    "4. Weighing the Strength of Evidence: The p-value is a continuous measure ranging between 0 and 1. A smaller p-value indicates stronger evidence against the null hypothesis. The smaller the p-value, the stronger the evidence suggesting a difference, relationship, or effect that is inconsistent with the null hypothesis.\n",
    "\n",
    "5. Interpretation: It is important to note that the p-value does not directly provide the probability that the null hypothesis is true or false, nor does it quantify the magnitude or practical significance of the observed effect. It simply measures the strength of evidence against the null hypothesis based on the observed data.\n",
    "\n",
    "Overall, the p-value plays a critical role in hypothesis testing by providing a quantitative measure of the evidence against the null hypothesis. It helps researchers make informed decisions, evaluate statistical significance, and support or reject hypotheses based on the strength of evidence provided by the data."
   ]
  },
  {
   "cell_type": "markdown",
   "id": "dfce76c3-76d2-4e08-8b74-09aabf7d0a48",
   "metadata": {},
   "source": [
    "## Q9. Generate a Student's t-distribution plot using Python's matplotlib library, with the degrees of freedom parameter set to 10.\n",
    "## ANSWER:-"
   ]
  },
  {
   "cell_type": "code",
   "execution_count": 4,
   "id": "19811f52-5872-4a82-a414-91d9fc12ad2e",
   "metadata": {},
   "outputs": [
    {
     "data": {
      "image/png": "[encoded data removed]",
      "text/plain": [
       "<Figure size 640x480 with 1 Axes>"
      ]
     },
     "metadata": {},
     "output_type": "display_data"
    }
   ],
   "source": [
    "import numpy as np\n",
    "import matplotlib.pyplot as plt\n",
    "from scipy.stats import t\n",
    "\n",
    "# Set the degrees of freedom\n",
    "df = 10\n",
    "\n",
    "# Generate x values for the t-distribution plot\n",
    "x = np.linspace(t.ppf(0.001, df), t.ppf(0.999, df), 100)\n",
    "\n",
    "# Compute the probability density function (PDF) for the t-distribution\n",
    "pdf = t.pdf(x, df)\n",
    "\n",
    "# Plot the t-distribution\n",
    "plt.plot(x, pdf, label='t-distribution (df=10)')\n",
    "plt.xlabel('x')\n",
    "plt.ylabel('Probability Density Function (PDF)')\n",
    "plt.title(\"Student's t-Distribution\")\n",
    "plt.legend()\n",
    "plt.grid(True)\n",
    "plt.show()\n"
   ]
  },
  {
   "cell_type": "markdown",
   "id": "ccccb292-d7a6-443d-9387-b2c61d6130c8",
   "metadata": {},
   "source": [
    "## Q10. Write a Python program to calculate the two-sample t-test for independent samples, given two random samples of equal size and a null hypothesis that the population means are equal.\n",
    "## ANSWER:-"
   ]
  },
  {
   "cell_type": "code",
   "execution_count": 5,
   "id": "48d1729a-cd45-4aad-9f1e-6031317853c2",
   "metadata": {},
   "outputs": [
    {
     "name": "stdout",
     "output_type": "stream",
     "text": [
      "t-statistic: -5.0\n",
      "p-value: 0.0010528257933664076\n"
     ]
    }
   ],
   "source": [
    "import numpy as np\n",
    "from scipy.stats import t\n",
    "\n",
    "def two_sample_t_test(sample1, sample2):\n",
    "    # Calculate sample statistics\n",
    "    n1 = len(sample1)\n",
    "    n2 = len(sample2)\n",
    "    mean1 = np.mean(sample1)\n",
    "    mean2 = np.mean(sample2)\n",
    "    var1 = np.var(sample1, ddof=1)\n",
    "    var2 = np.var(sample2, ddof=1)\n",
    "\n",
    "    # Calculate the pooled standard deviation\n",
    "    pooled_std = np.sqrt((var1 + var2) / 2)\n",
    "\n",
    "    # Calculate the t-statistic\n",
    "    t_statistic = (mean1 - mean2) / (pooled_std * np.sqrt(2/n1))\n",
    "\n",
    "    # Calculate the degrees of freedom\n",
    "    degrees_of_freedom = n1 + n2 - 2\n",
    "\n",
    "    # Calculate the p-value\n",
    "    p_value = 2 * (1 - t.cdf(abs(t_statistic), degrees_of_freedom))\n",
    "\n",
    "    return t_statistic, p_value\n",
    "\n",
    "# Example usage\n",
    "sample1 = [1, 2, 3, 4, 5]\n",
    "sample2 = [6, 7, 8, 9, 10]\n",
    "\n",
    "t_statistic, p_value = two_sample_t_test(sample1, sample2)\n",
    "\n",
    "print(\"t-statistic:\", t_statistic)\n",
    "print(\"p-value:\", p_value)\n"
   ]
  },
  {
   "cell_type": "markdown",
   "id": "c46dcdee-599f-4fdc-8eaf-600e8fb0e336",
   "metadata": {},
   "source": [
    "## Q11: What is Student’s t distribution? When to use the t-Distribution.\n",
    "## ANSWER:-"
   ]
  },
  {
   "cell_type": "markdown",
   "id": "dad7c888-5e94-477e-a3cf-c8d130dea6ac",
   "metadata": {},
   "source": [
    "Student's t-distribution, often referred to as the t-distribution, is a probability distribution that is used in statistics for making inferences about population means when the sample size is small and/or the population standard deviation is unknown. It is named after William Gosset, who used the pseudonym \"Student\" when publishing his work.\n",
    "\n",
    "The t-distribution is similar in shape to the standard normal distribution (z-distribution), but it has thicker tails. The shape of the t-distribution is determined by the degrees of freedom (df), which is related to the sample size. As the degrees of freedom increase, the t-distribution approaches the standard normal distribution.\n",
    "\n",
    "The t-distribution is used when one or both of the following conditions are met:\n",
    "\n",
    "1. Small Sample Sizes: When the sample size is small (typically less than 30), the t-distribution is used to account for the increased uncertainty associated with estimating population parameters. In such cases, the t-distribution provides more accurate inference than the standard normal distribution.\n",
    "\n",
    "2. Unknown Population Standard Deviation: When the population standard deviation is unknown, the t-distribution is used. Instead of using the population standard deviation in the calculations, the sample standard deviation is used to estimate the variability in the population.\n",
    "\n",
    "The t-distribution is commonly used in the following scenarios:\n",
    "\n",
    "- Testing hypotheses about population means: When conducting hypothesis tests or constructing confidence intervals for the population mean, the t-distribution is employed when the population standard deviation is unknown and must be estimated from the sample.\n",
    "- Comparing two sample means: When comparing the means of two independent samples, such as in a two-sample t-test, the t-distribution is used to assess whether the observed difference is statistically significant.\n",
    "- Estimating population parameters: When estimating population means or constructing confidence intervals for the mean, the t-distribution is used to account for the uncertainty associated with small sample sizes or unknown population standard deviations.\n",
    "\n",
    "In summary, the t-distribution is a probability distribution used in statistical inference when dealing with small sample sizes or unknown population standard deviations. It provides a more accurate estimation and inference compared to the standard normal distribution in such situations."
   ]
  },
  {
   "cell_type": "markdown",
   "id": "66f79d93-bcd3-4c66-a76b-f32831599326",
   "metadata": {},
   "source": [
    "## Q12: What is t-statistic? State the formula for t-statistic.\n",
    "## ANSWER:-"
   ]
  },
  {
   "cell_type": "markdown",
   "id": "abf8a259-6602-4a0c-88c9-6e3e898c05f0",
   "metadata": {},
   "source": [
    "The t-statistic is a statistical measure used in hypothesis testing to assess the evidence against the null hypothesis and determine the statistical significance of the observed data. It quantifies the difference between sample means (or other sample statistics) under the null hypothesis, taking into account the variability in the data.\n",
    "\n",
    "The formula for the t-statistic depends on the specific context and type of hypothesis test being conducted. However, the most common formula for the t-statistic in the case of testing the difference between two independent sample means is:\n",
    "\n",
    "t = (mean1 - mean2) / (s_p * sqrt(1/n1 + 1/n2))\n",
    "\n",
    "where:\n",
    "- mean1 and mean2 are the sample means of the two groups being compared.\n",
    "- s_p is the pooled standard deviation, an estimate of the common standard deviation assuming equal variances. It is calculated as:\n",
    "s_p = sqrt(((n1 - 1) * s1^2 + (n2 - 1) * s2^2) / (n1 + n2 - 2))\n",
    "- n1 and n2 are the sample sizes of the two groups.\n",
    "\n",
    "The t-statistic represents the difference between the sample means relative to the standard error of the difference. It measures how many standard errors the difference between the sample means is away from the null hypothesis. A larger absolute value of the t-statistic suggests a greater difference between the sample means and provides stronger evidence against the null hypothesis.\n",
    "\n",
    "The t-statistic follows a t-distribution with degrees of freedom determined by the sample sizes and assumptions made in the analysis (e.g., assuming equal variances or unequal variances in the two groups). By comparing the calculated t-statistic to the critical values from the t-distribution, one can assess whether the observed difference is statistically significant and make conclusions about the null hypothesis."
   ]
  },
  {
   "cell_type": "markdown",
   "id": "b0310432-2c3b-4b9b-b8ba-14e5dd3f23a3",
   "metadata": {},
   "source": [
    "## Q13. A coffee shop owner wants to estimate the average daily revenue for their shop. They take a random sample of 50 days and find the sample mean revenue to be $500 with a standard deviation of $50. Estimate the population mean revenue with a 95% confidence interval.\n",
    "## ANSWER:-"
   ]
  },
  {
   "cell_type": "markdown",
   "id": "e7002a51-ef2c-4c14-b4e0-2335915fd1aa",
   "metadata": {},
   "source": [
    "To estimate the population mean revenue with a 95% confidence interval, we can use the sample mean, standard deviation, and sample size to calculate the interval estimate. Here's how to do it:\n",
    "\n",
    "Given information:\n",
    "\n",
    "- Sample mean (x̄) = $500\n",
    "\n",
    "- Standard deviation (σ) = $50\n",
    "\n",
    "- Sample size (n) = 50\n",
    "\n",
    "- Confidence level = 95% (which corresponds to a significance level of α = 0.05)\n",
    "\n",
    "To calculate the confidence interval, we'll use the formula:\n",
    "\n",
    "Confidence Interval = x̄ ± (critical value) * (σ / √n)\n",
    "\n",
    "1. Find the critical value:\n",
    "\n",
    "For a 95% confidence level and a sample size of 50, we have n - 1 = 49 degrees of freedom. Using a t-distribution, the critical value is determined by finding the value that corresponds to the upper tail area of 0.025. This can be obtained using a t-table or a statistical software. For a sample size of 50 and a confidence level of 95%, the critical value is approximately 2.0096.\n",
    "\n",
    "2. Calculate the margin of error:\n",
    "\n",
    "The margin of error is given by (critical value) * (σ / √n). Substituting the values, we have:\n",
    "\n",
    "Margin of Error = 2.0096 * ($50 / √50)\n",
    "\n",
    "3. Calculate the lower and upper bounds of the confidence interval:\n",
    "\n",
    "Lower bound = x̄ - Margin of Error\n",
    "\n",
    "Upper bound = x̄ + Margin of Error\n",
    "\n",
    "Substituting the values, we get:\n",
    "\n",
    "Lower bound = $500 - (2.0096 * ($50 / √50))\n",
    "\n",
    "Upper bound = $500 + (2.0096 * ($50 / √50))\n",
    "\n",
    "Calculating the values:\n",
    "\n",
    "Lower bound ≈ $483.03\n",
    "\n",
    "Upper bound ≈ $516.97\n",
    "\n",
    "Therefore, the 95% confidence interval for the population mean revenue is approximately $483.03 to $516.97. This means that we can be 95% confident that the true average daily revenue for the coffee shop falls within this range based on the given sample."
   ]
  },
  {
   "cell_type": "markdown",
   "id": "c9fa5f90-1ff3-42e8-a0b4-ce65912999b7",
   "metadata": {},
   "source": [
    "## Q14. A researcher hypothesizes that a new drug will decrease blood pressure by 10 mmHg. They conduct a clinical trial with 100 patients and find that the sample mean decrease in blood pressure is 8 mmHg with a standard deviation of 3 mmHg. Test the hypothesis with a significance level of 0.05.\n",
    "## ANSWER:-"
   ]
  },
  {
   "cell_type": "markdown",
   "id": "f45dbf59-ec50-4455-b209-f0b73b8bb760",
   "metadata": {},
   "source": [
    "To test the hypothesis that the new drug decreases blood pressure by 10 mmHg, we can perform a one-sample t-test. Here are the steps to conduct the hypothesis test using the given information:\n",
    "\n",
    "Given information:\n",
    "\n",
    "- Sample mean decrease in blood pressure (x̄) = 8 mmHg\n",
    "\n",
    "- Standard deviation (σ) = 3 mmHg\n",
    "\n",
    "- Sample size (n) = 100\n",
    "\n",
    "- Hypothesized mean decrease (μ) = 10 mmHg\n",
    "\n",
    "- Significance level (α) = 0.05\n",
    "\n",
    "The null hypothesis (H0) states that the mean decrease in blood pressure is equal to 10 mmHg, while the alternative hypothesis (Ha) states that the mean decrease is not equal to 10 mmHg.\n",
    "\n",
    "Step 1: Set up the hypotheses:\n",
    "\n",
    "- Null hypothesis: H0: μ = 10\n",
    "\n",
    "- Alternative hypothesis: Ha: μ ≠ 10\n",
    "\n",
    "Step 2: Set the significance level:\n",
    "\n",
    "- Significance level (α) = 0.05\n",
    "\n",
    "Step 3: Calculate the test statistic:\n",
    "\n",
    "The test statistic for a one-sample t-test is given by:\n",
    "\n",
    "t = (x̄ - μ) / (σ / √n)\n",
    "\n",
    "Substituting the given values:\n",
    "\n",
    "t = (8 - 10) / (3 / √100)\n",
    "\n",
    "Calculating the value:\n",
    "\n",
    "t ≈ -2.94\n",
    "\n",
    "Step 4: Determine the critical value:\n",
    "\n",
    "Since we have a two-tailed test (Ha: μ ≠ 10), we need to find the critical value for a significance level of 0.05 and degrees of freedom (df) equal to n - 1. In this case, df = 100 - 1 = 99. Using a t-table or a statistical software, the critical value is approximately ±1.984.\n",
    "\n",
    "Step 5: Compare the test statistic with the critical value:\n",
    "\n",
    "Since the absolute value of the test statistic (|-2.94|) is greater than the critical value (1.984), we reject the null hypothesis.\n",
    "\n",
    "Step 6: State the conclusion:\n",
    "\n",
    "Based on the results of the hypothesis test, there is sufficient evidence to conclude that the new drug decreases blood pressure significantly different from 10 mmHg. The sample data suggests a mean decrease of 8 mmHg, which is significantly different from the hypothesized mean of 10 mmHg, at a significance level of 0.05.\n",
    "\n",
    "Note: The p-value can also be calculated, which represents the probability of observing a test statistic as extreme as, or more extreme than, the one obtained, assuming the null hypothesis is true. In this case, the p-value is less than 0.05, further supporting the rejection of the null hypothesis."
   ]
  },
  {
   "cell_type": "markdown",
   "id": "35d45a7c-22b9-4e37-93eb-a48325587f32",
   "metadata": {},
   "source": [
    "## Q15. An electronics company produces a certain type of product with a mean weight of 5 pounds and a standard deviation of 0.5 pounds. A random sample of 25 products is taken, and the sample mean weight is found to be 4.8 pounds. Test the hypothesis that the true mean weight of the products is less than 5 pounds with a significance level of 0.01.\n",
    "## ANSWER:-"
   ]
  },
  {
   "cell_type": "markdown",
   "id": "b6e66303-8df5-41e2-9aa4-629c498d9f2e",
   "metadata": {},
   "source": [
    "To test the hypothesis that the true mean weight of the products is less than 5 pounds, we can perform a one-sample t-test. Here are the steps to conduct the hypothesis test using the given information:\n",
    "\n",
    "Given information:\n",
    "\n",
    "- Population mean weight (μ) = 5 pounds\n",
    "\n",
    "- Population standard deviation (σ) = 0.5 pounds\n",
    "\n",
    "- Sample size (n) = 25\n",
    "\n",
    "- Sample mean weight (x̄) = 4.8 pounds\n",
    "\n",
    "- Significance level (α) = 0.01\n",
    "\n",
    "The null hypothesis (H0) states that the true mean weight of the products is equal to 5 pounds, while the alternative hypothesis (Ha) states that the true mean weight is less than 5 pounds.\n",
    "\n",
    "Step 1: Set up the hypotheses:\n",
    "\n",
    "- Null hypothesis: H0: μ = 5\n",
    "\n",
    "- Alternative hypothesis: Ha: μ < 5\n",
    "\n",
    "\n",
    "Step 2: Set the significance level:\n",
    "\n",
    "- Significance level (α) = 0.01\n",
    "\n",
    "Step 3: Calculate the test statistic:\n",
    "\n",
    "The test statistic for a one-sample t-test is given by:\n",
    "\n",
    "t = (x̄ - μ) / (σ / √n)\n",
    "\n",
    "Substituting the given values:\n",
    "\n",
    "t = (4.8 - 5) / (0.5 / √25)\n",
    "\n",
    "Calculating the value:\n",
    "\n",
    "t ≈ -2.0\n",
    "\n",
    "Step 4: Determine the critical value:\n",
    "\n",
    "Since we have a one-tailed test (Ha: μ < 5), we need to find the critical value for a significance level of 0.01 and degrees of freedom (df) equal to n - 1. In this case, df = 25 - 1 = 24. Using a t-table or a statistical software, the critical value is approximately -2.492.\n",
    "\n",
    "Step 5: Compare the test statistic with the critical value:\n",
    "\n",
    "Since the test statistic (-2.0) is greater than the critical value (-2.492), we fail to reject the null hypothesis.\n",
    "\n",
    "Step 6: State the conclusion:\n",
    "\n",
    "Based on the results of the hypothesis test, there is not sufficient evidence to conclude that the true mean weight of the products is less than 5 pounds. The sample data does not provide enough evidence to reject the null hypothesis at a significance level of 0.01.\n",
    "\n",
    "Note: The p-value can also be calculated, which represents the probability of observing a test statistic as extreme as, or more extreme than, the one obtained, assuming the null hypothesis is true. In this case, the p-value is greater than 0.01, further supporting the failure to reject the null hypothesis."
   ]
  },
  {
   "cell_type": "markdown",
   "id": "ab505c9f-807c-4c40-b506-2d875c7e9ad3",
   "metadata": {},
   "source": [
    "## Q16. Two groups of students are given different study materials to prepare for a test. The first group (n1 = 30) has a mean score of 80 with a standard deviation of 10, and the second group (n2 = 40) has a mean score of 75 with a standard deviation of 8. Test the hypothesis that the population means for the two groups are equal with a significance level of 0.01.\n",
    "## ANSWER:-"
   ]
  },
  {
   "cell_type": "markdown",
   "id": "65bfcadf-a2fd-438b-839c-d8a493527443",
   "metadata": {},
   "source": [
    "To test the hypothesis that the population means for the two groups are equal, we can perform a two-sample t-test. Here are the steps to conduct the hypothesis test using the given information:\n",
    "\n",
    "Given information:\n",
    "\n",
    "- Group 1: n1 = 30, mean score (x̄1) = 80, standard deviation (s1) = 10\n",
    "\n",
    "- Group 2: n2 = 40, mean score (x̄2) = 75, standard deviation (s2) = 8\n",
    "\n",
    "- Significance level (α) = 0.01\n",
    "\n",
    "The null hypothesis (H0) states that the population means for the two groups are equal, while the alternative hypothesis (Ha) states that the population means are not equal.\n",
    "\n",
    "Step 1: Set up the hypotheses:\n",
    "\n",
    "- Null hypothesis: H0: μ1 = μ2\n",
    "\n",
    "- Alternative hypothesis: Ha: μ1 ≠ μ2\n",
    "\n",
    "Step 2: Set the significance level:\n",
    "\n",
    "- Significance level (α) = 0.01\n",
    "\n",
    "Step 3: Calculate the test statistic:\n",
    "\n",
    "The test statistic for a two-sample t-test is given by:\n",
    "\n",
    "t = (x̄1 - x̄2) / √((s1^2 / n1) + (s2^2 / n2))\n",
    "\n",
    "Substituting the given values:\n",
    "\n",
    "t = (80 - 75) / √((10^2 / 30) + (8^2 / 40))\n",
    "\n",
    "Calculating the value:\n",
    "\n",
    "t ≈ 2.49\n",
    "\n",
    "Step 4: Determine the critical value:\n",
    "\n",
    "Since we have a two-tailed test (Ha: μ1 ≠ μ2), we need to find the critical value for a significance level of 0.01/2 (divided by 2 for two tails) and degrees of freedom (df) determined by the sample sizes and assumptions made in the analysis. In this case, df is calculated as:\n",
    "\n",
    "df = [(s1^2 / n1 + s2^2 / n2)^2] / [(s1^2 / n1)^2 / (n1 - 1) + (s2^2 / n2)^2 / (n2 - 1)]\n",
    "\n",
    "Using a t-table or a statistical software, the critical value for a significance level of 0.01/2 and the calculated degrees of freedom is approximately ±2.637.\n",
    "\n",
    "Step 5: Compare the test statistic with the critical value:\n",
    "\n",
    "Since the absolute value of the test statistic (|2.49|) is less than the critical value (2.637), we fail to reject the null hypothesis.\n",
    "\n",
    "Step 6: State the conclusion:\n",
    "\n",
    "Based on the results of the hypothesis test, there is not sufficient evidence to conclude that the population means for the two groups are different. The sample data does not provide enough evidence to reject the null hypothesis at a significance level of 0.01.\n",
    "\n",
    "Note: The p-value can also be calculated, which represents the probability of observing a test statistic as extreme as, or more extreme than, the one obtained, assuming the null hypothesis is true. In this case, the p-value is greater than 0.01, further supporting the failure to reject the null hypothesis."
   ]
  },
  {
   "cell_type": "markdown",
   "id": "112c2348-4f6c-44fc-9fb7-f5945abe5025",
   "metadata": {},
   "source": [
    "## Q17. A marketing company wants to estimate the average number of ads watched by viewers during a TV program. They take a random sample of 50 viewers and find that the sample mean is 4 with a standard deviation of 1.5. Estimate the population mean with a 99% confidence interval.\n",
    "## ANSWER:-"
   ]
  },
  {
   "cell_type": "markdown",
   "id": "d16b1dc5-092d-48d4-b8c0-ccd523b1569d",
   "metadata": {},
   "source": [
    "To estimate the population mean with a 99% confidence interval, we can use the sample mean, standard deviation, and sample size to calculate the interval estimate. Here's how to do it:\n",
    "\n",
    "Given information:\n",
    "\n",
    "- Sample mean (x̄) = 4\n",
    "\n",
    "- Standard deviation (σ) = 1.5\n",
    "\n",
    "- Sample size (n) = 50\n",
    "\n",
    "- Confidence level = 99% (which corresponds to a significance level of α = 0.01)\n",
    "\n",
    "To calculate the confidence interval, we'll use the formula:\n",
    "\n",
    "Confidence Interval = x̄ ± (critical value) * (σ / √n)\n",
    "\n",
    "1. Find the critical value:\n",
    "\n",
    "For a 99% confidence level and a sample size of 50, we have n - 1 = 49 degrees of freedom. Using a t-distribution, the critical value is determined by finding the value that corresponds to the upper tail area of 0.005. This can be obtained using a t-table or a statistical software. For a sample size of 50 and a confidence level of 99%, the critical value is approximately 2.678.\n",
    "\n",
    "2. Calculate the margin of error:\n",
    "\n",
    "The margin of error is given by (critical value) * (σ / √n). Substituting the values, we have:\n",
    "\n",
    "Margin of Error = 2.678 * (1.5 / √50)\n",
    "\n",
    "3. Calculate the lower and upper bounds of the confidence interval:\n",
    "\n",
    "Lower bound = x̄ - Margin of Error\n",
    "\n",
    "Upper bound = x̄ + Margin of Error\n",
    "\n",
    "Substituting the values, we get:\n",
    "\n",
    "Lower bound = 4 - (2.678 * (1.5 / √50))\n",
    "\n",
    "Upper bound = 4 + (2.678 * (1.5 / √50))\n",
    "\n",
    "Calculating the values:\n",
    "\n",
    "Lower bound ≈ 3.510\n",
    "\n",
    "Upper bound ≈ 4.490\n",
    "\n",
    "Therefore, the 99% confidence interval for the population mean number of ads watched by viewers during a TV program is approximately 3.510 to 4.490. This means that we can be 99% confident that the true average number of ads watched falls within this range based on the given sample."
   ]
  },
  {
   "cell_type": "code",
   "execution_count": null,
   "id": "73220fd5-00ce-4b0e-883f-25eafb3d991f",
   "metadata": {},
   "outputs": [],
   "source": []
  }
 ],
 "metadata": {
  "kernelspec": {
   "display_name": "Python 3 (ipykernel)",
   "language": "python",
   "name": "python3"
  },
  "language_info": {
   "codemirror_mode": {
    "name": "ipython",
    "version": 3
   },
   "file_extension": ".py",
   "mimetype": "text/x-python",
   "name": "python",
   "nbconvert_exporter": "python",
   "pygments_lexer": "ipython3",
   "version": "3.10.8"
  }
 },
 "nbformat": 4,
 "nbformat_minor": 5
}
